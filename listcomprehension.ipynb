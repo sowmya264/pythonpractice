{
 "cells": [
  {
   "cell_type": "code",
   "execution_count": 2,
   "id": "ddd65816",
   "metadata": {},
   "outputs": [
    {
     "name": "stdout",
     "output_type": "stream",
     "text": [
      "[1, 2, 3, 4, 5]\n"
     ]
    }
   ],
   "source": [
    "#list comprehension for random 10 numbers to print with space\n",
    "\n",
    "n=[int(x) for x in input(\"enter 10 space numbers:\").split()[:5]]\n",
    "print(n)"
   ]
  },
  {
   "cell_type": "code",
   "execution_count": 3,
   "id": "24a6088b",
   "metadata": {},
   "outputs": [
    {
     "name": "stdout",
     "output_type": "stream",
     "text": [
      "['RED', 'GREEN', 'BLUE', 'VIOLET']\n"
     ]
    }
   ],
   "source": [
    "colors=['red','green','blue','violet']\n",
    "x=([color.upper() for color in colors])\n",
    "print(x)"
   ]
  },
  {
   "cell_type": "code",
   "execution_count": 4,
   "id": "6fa853ed",
   "metadata": {},
   "outputs": [
    {
     "name": "stdout",
     "output_type": "stream",
     "text": [
      "[0, 2, 4, 6, 8, 10]\n"
     ]
    }
   ],
   "source": [
    "print([x for x in range(11)if x%2==0])"
   ]
  },
  {
   "cell_type": "code",
   "execution_count": 5,
   "id": "95c3fd61",
   "metadata": {},
   "outputs": [
    {
     "name": "stdout",
     "output_type": "stream",
     "text": [
      "3x3 matrix\n",
      "[1, 2, 3]\n",
      "[4, 5, 6]\n",
      "[7, 8, 9]\n"
     ]
    }
   ],
   "source": [
    "nums=[int(x) for x in input(\"enter 9 nums:\").split()[:9]]\n",
    "m=[[nums[i*3+j] for j in range(3)] for i in range(3)]\n",
    "print(\"3x3 matrix\")\n",
    "for x in m:\n",
    "    print(x)"
   ]
  },
  {
   "cell_type": "code",
   "execution_count": 6,
   "id": "ab960642",
   "metadata": {},
   "outputs": [
    {
     "name": "stdout",
     "output_type": "stream",
     "text": [
      "[1, 2, 3]\n",
      "[4, 5, 6]\n",
      "[7, 8, 9]\n",
      "[1, 0, 1]\n",
      "[0, 1, 0]\n",
      "[1, 0, 1]\n"
     ]
    }
   ],
   "source": [
    "nums=input(\"enter 9 numbers\").split()\n",
    "numbers=[int(x) for x in nums]\n",
    "m=[[numbers[i*3+j] for j in range(3)] for i in range(3)]\n",
    "bm=[[0 if m[i][j]%2==0 else 1 for j in range(3)] for i in range(3)]\n",
    "for r in m:\n",
    "    print(r)\n",
    "for  r in bm:\n",
    "    print(r)"
   ]
  },
  {
   "cell_type": "code",
   "execution_count": 7,
   "id": "ee0c13fc",
   "metadata": {},
   "outputs": [
    {
     "name": "stdout",
     "output_type": "stream",
     "text": [
      "* * * * * * * * *\n",
      "* * * *   * * * *\n",
      "* * *       * * *\n",
      "* *           * *\n",
      "*               *\n",
      "* *           * *\n",
      "* * *       * * *\n",
      "* * * *   * * * *\n",
      "* * * * * * * * *\n"
     ]
    }
   ],
   "source": [
    "n=9\n",
    "p=[\" \".join(\" \" if (abs(i-n//2) + abs(j-n//2) <n//2) and i!=0 and i!=n-1 else \"*\" for j in range(n)) for i in range(n)]\n",
    "for r in p:\n",
    "    print(r)"
   ]
  },
  {
   "cell_type": "code",
   "execution_count": 2,
   "id": "b6f960ba",
   "metadata": {},
   "outputs": [
    {
     "name": "stdout",
     "output_type": "stream",
     "text": [
      "[(0, 0), (0, 1), (0, 2), (1, 0), (1, 1), (1, 2), (2, 0), (2, 1), (2, 2)]\n"
     ]
    }
   ],
   "source": [
    "#nested list comprehension\n",
    "coordinates=[(i,j) for i in range(3) for j in range(3)]\n",
    "print(coordinates)"
   ]
  },
  {
   "cell_type": "code",
   "execution_count": 5,
   "id": "49ad0b3f",
   "metadata": {},
   "outputs": [
    {
     "name": "stdout",
     "output_type": "stream",
     "text": [
      "[32.0, 50.0, 68.0, 86.0]\n"
     ]
    }
   ],
   "source": [
    "def celsius_to_ft(celsius):\n",
    "    return (celsius * 9/5)+32\n",
    "celsius_temps=[0,10,20,30]\n",
    "ft_temps=[celsius_to_ft(temp) for temp in celsius_temps]\n",
    "print(ft_temps)"
   ]
  },
  {
   "cell_type": "code",
   "execution_count": 6,
   "id": "34395cf1",
   "metadata": {},
   "outputs": [
    {
     "name": "stdout",
     "output_type": "stream",
     "text": [
      "[36, 64]\n"
     ]
    }
   ],
   "source": [
    "even_squares=[x**2 for x in range(10) if x % 2==0 if x>5]\n",
    "print(even_squares)"
   ]
  },
  {
   "cell_type": "code",
   "execution_count": 7,
   "id": "d9f8f879",
   "metadata": {},
   "outputs": [
    {
     "name": "stdout",
     "output_type": "stream",
     "text": [
      "[2, 4, 6, 8]\n"
     ]
    }
   ],
   "source": [
    "matrix=[[1,2,3],[4,5,6],[7,8,9]]\n",
    "flat_even=[num for row in matrix for num in row if num%2==0]\n",
    "print(flat_even)"
   ]
  },
  {
   "cell_type": "code",
   "execution_count": 10,
   "id": "30df59fd",
   "metadata": {},
   "outputs": [
    {
     "name": "stdout",
     "output_type": "stream",
     "text": [
      "['THE', 'DATA', 'CHANNEL']\n"
     ]
    }
   ],
   "source": [
    "names=['the','data','channel']\n",
    "upper=[name.upper() for name in names]\n",
    "print(upper)"
   ]
  },
  {
   "cell_type": "code",
   "execution_count": 11,
   "id": "7bbb074a",
   "metadata": {},
   "outputs": [
    {
     "name": "stdout",
     "output_type": "stream",
     "text": [
      "[1, 2, 3, 4, 5, 6, 7, 8, 9]\n"
     ]
    }
   ],
   "source": [
    "#flatten a 2D list into 1D\n",
    "nested_list=[[1,2,3],[4,5,6],[7,8,9]]\n",
    "flat_list=[item for sublist in nested_list for item in sublist]\n",
    "print(flat_list)"
   ]
  },
  {
   "cell_type": "code",
   "execution_count": null,
   "id": "df0c90b8",
   "metadata": {},
   "outputs": [],
   "source": []
  },
  {
   "cell_type": "code",
   "execution_count": null,
   "id": "bd125eda",
   "metadata": {},
   "outputs": [],
   "source": []
  },
  {
   "cell_type": "code",
   "execution_count": null,
   "id": "102eb29f",
   "metadata": {},
   "outputs": [],
   "source": []
  },
  {
   "cell_type": "code",
   "execution_count": null,
   "id": "3c0275b7",
   "metadata": {},
   "outputs": [],
   "source": []
  },
  {
   "cell_type": "code",
   "execution_count": null,
   "id": "d467179a",
   "metadata": {},
   "outputs": [],
   "source": []
  }
 ],
 "metadata": {
  "kernelspec": {
   "display_name": "Python 3",
   "language": "python",
   "name": "python3"
  },
  "language_info": {
   "codemirror_mode": {
    "name": "ipython",
    "version": 3
   },
   "file_extension": ".py",
   "mimetype": "text/x-python",
   "name": "python",
   "nbconvert_exporter": "python",
   "pygments_lexer": "ipython3",
   "version": "3.12.0"
  }
 },
 "nbformat": 4,
 "nbformat_minor": 5
}
