{
 "cells": [
  {
   "cell_type": "code",
   "execution_count": null,
   "id": "03169a1a",
   "metadata": {},
   "outputs": [
    {
     "name": "stdout",
     "output_type": "stream",
     "text": [
      "[10, 3, 100]\n"
     ]
    }
   ],
   "source": [
    "#from the list containing numbers and strings ,extract only integers using lambda function and list comprehension  \n",
    "#op:-[10,3,100]\n",
    "data=[10,'hi',4.5,'students',3,100]\n",
    "i=[x for x in data if(lambda v:type(v)==int)(x)]\n",
    "print(i)"
   ]
  },
  {
   "cell_type": "code",
   "execution_count": null,
   "id": "936cba28",
   "metadata": {},
   "outputs": [
    {
     "name": "stdout",
     "output_type": "stream",
     "text": [
      "24\n"
     ]
    }
   ],
   "source": [
    "#claculate the factorial of n using recursion of lambda function\n",
    "fact=(lambda f: lambda n: 1 if n == 0 else n * f(f)(n-1))(lambda f: lambda n: 1 if n == 0 else n*f(f)(n-1))\n",
    "print(fact(4))"
   ]
  },
  {
   "cell_type": "code",
   "execution_count": null,
   "id": "0545f6e7",
   "metadata": {},
   "outputs": [
    {
     "name": "stdout",
     "output_type": "stream",
     "text": [
      "10\n"
     ]
    }
   ],
   "source": [
    "#sum of digits\n",
    "sum=(lambda f: lambda n: 0 if n == 0 else n%10 +f(f)(n//10))(lambda f: lambda n: 0 if n==0 else n%10 +f(f)(n//10))\n",
    "print(sum(1234))"
   ]
  },
  {
   "cell_type": "code",
   "execution_count": 1,
   "id": "a0c87706",
   "metadata": {},
   "outputs": [
    {
     "name": "stdout",
     "output_type": "stream",
     "text": [
      "33\n"
     ]
    }
   ],
   "source": [
    "x=lambda num: num+22\n",
    "print(x(11))"
   ]
  },
  {
   "cell_type": "code",
   "execution_count": 5,
   "id": "f349f6d4",
   "metadata": {},
   "outputs": [
    {
     "name": "stdout",
     "output_type": "stream",
     "text": [
      "10\n"
     ]
    }
   ],
   "source": [
    "def b(n):\n",
    "    return lambda x:x*n\n",
    "a=b(2)\n",
    "print(a(5))"
   ]
  },
  {
   "cell_type": "code",
   "execution_count": 6,
   "id": "4714fbc7",
   "metadata": {},
   "outputs": [
    {
     "name": "stdout",
     "output_type": "stream",
     "text": [
      "8\n",
      "8\n"
     ]
    }
   ],
   "source": [
    "def a(n):\n",
    "    return n**3\n",
    "b= lambda x: x**3\n",
    "print(a(2))\n",
    "print(b(2))"
   ]
  },
  {
   "cell_type": "code",
   "execution_count": 7,
   "id": "28b8be7e",
   "metadata": {},
   "outputs": [
    {
     "name": "stdout",
     "output_type": "stream",
     "text": [
      "morning\n",
      "1234\n"
     ]
    }
   ],
   "source": [
    "#code to declare the longest string using lambda\n",
    "long=lambda a,b: a if len(a)> len(b) else b\n",
    "print(long('hell0','morning'))\n",
    "print(long('1234',\"11\"))"
   ]
  },
  {
   "cell_type": "code",
   "execution_count": 9,
   "id": "426d4956",
   "metadata": {},
   "outputs": [
    {
     "name": "stdout",
     "output_type": "stream",
     "text": [
      "['PEN', 'CAP', 'BAT']\n"
     ]
    }
   ],
   "source": [
    "#lc with lambda\n",
    "data=['pen','cap','bat']\n",
    "upper=[(lambda x: x.upper())(d) for d in data]\n",
    "print(upper)"
   ]
  },
  {
   "cell_type": "code",
   "execution_count": 19,
   "id": "7dd13dac",
   "metadata": {},
   "outputs": [
    {
     "name": "stdout",
     "output_type": "stream",
     "text": [
      "['ahtinaj', 'itapardney', 'iris']\n"
     ]
    }
   ],
   "source": [
    "#reverse a string using lambda function and list comprehension\n",
    "words=['janitha','yendrapati','siri']\n",
    "rw=[(lambda w: w[::-1])(word) for word in words]\n",
    "print(rw)"
   ]
  },
  {
   "cell_type": "code",
   "execution_count": 20,
   "id": "6b12c5dc",
   "metadata": {},
   "outputs": [
    {
     "name": "stdout",
     "output_type": "stream",
     "text": [
      "['hi', 'students', 'bye']\n"
     ]
    }
   ],
   "source": [
    "n=['hi',' ','students',' ','bye']\n",
    "m=[s for s in n if(lambda x: x!=\" \")(s)]\n",
    "print(m)"
   ]
  },
  {
   "cell_type": "code",
   "execution_count": 1,
   "id": "8f3a97cf",
   "metadata": {},
   "outputs": [
    {
     "data": {
      "text/plain": [
       "['MY', 'PYTHON']"
      ]
     },
     "execution_count": 1,
     "metadata": {},
     "output_type": "execute_result"
    }
   ],
   "source": [
    "strings=['my','python']\n",
    "cap=map(lambda x: str.upper(x),strings)\n",
    "list(cap)"
   ]
  },
  {
   "cell_type": "code",
   "execution_count": 14,
   "id": "c25bc967",
   "metadata": {},
   "outputs": [
    {
     "name": "stdout",
     "output_type": "stream",
     "text": [
      "[30, 32, 33, 35, 37, 39]\n"
     ]
    }
   ],
   "source": [
    "attendence=[35,39,32,37,30,33]\n",
    "#sorted(attendence,reverse=True)\n",
    "attendence.sort(key=lambda x: x*1.5)\n",
    "print(attendence)"
   ]
  },
  {
   "cell_type": "code",
   "execution_count": 15,
   "id": "7782e9fb",
   "metadata": {},
   "outputs": [
    {
     "data": {
      "text/plain": [
       "[('9C', 32), ('9E', 34), ('9A', 35), ('9B', 37)]"
      ]
     },
     "execution_count": 15,
     "metadata": {},
     "output_type": "execute_result"
    }
   ],
   "source": [
    "class_att=[('9A',35),('9B',37),('9C',32),('9E',34)]\n",
    "sorted(class_att, key=lambda x: x[1])"
   ]
  },
  {
   "cell_type": "code",
   "execution_count": 18,
   "id": "919fe090",
   "metadata": {},
   "outputs": [
    {
     "data": {
      "text/plain": [
       "[35, 39, 37, 36]"
      ]
     },
     "execution_count": 18,
     "metadata": {},
     "output_type": "execute_result"
    }
   ],
   "source": [
    "attendence=[35,39,32,37,30,33,36]\n",
    "abv_avg_att=filter(lambda x: x>=35,attendence)\n",
    "list(abv_avg_att)"
   ]
  },
  {
   "cell_type": "code",
   "execution_count": 19,
   "id": "8dc1469b",
   "metadata": {},
   "outputs": [
    {
     "data": {
      "text/plain": [
       "['india', 'france', 'germany']"
      ]
     },
     "execution_count": 19,
     "metadata": {},
     "output_type": "execute_result"
    }
   ],
   "source": [
    "#print countries greater than 3letters\n",
    "countries=[\"india\",\"france\",\"us\",\"germany\",\"uk\",\"uae\"]\n",
    "count_3=filter(lambda x: len(x)>3,countries)\n",
    "list(count_3)"
   ]
  },
  {
   "cell_type": "code",
   "execution_count": 21,
   "id": "74585102",
   "metadata": {},
   "outputs": [
    {
     "name": "stdout",
     "output_type": "stream",
     "text": [
      "141\n"
     ]
    }
   ],
   "source": [
    "#sum of digits in list using reduce\n",
    "from functools import reduce\n",
    "nums=[10,20,22,25,29,35]\n",
    "summed_up=reduce(lambda x,y: x+y,nums)\n",
    "print(summed_up)"
   ]
  },
  {
   "cell_type": "code",
   "execution_count": null,
   "id": "cd13bea8",
   "metadata": {},
   "outputs": [
    {
     "name": "stdout",
     "output_type": "stream",
     "text": [
      "35\n"
     ]
    }
   ],
   "source": [
    "#aggregation function in lambda using reduce\n",
    "nums=[10,20,22,25,29,35]\n",
    "max_value=reduce(lambda x,y: max(x,y),nums)\n",
    "print(max_value)"
   ]
  },
  {
   "cell_type": "code",
   "execution_count": 23,
   "id": "5a612e2c",
   "metadata": {},
   "outputs": [
    {
     "name": "stdout",
     "output_type": "stream",
     "text": [
      "35\n"
     ]
    }
   ],
   "source": [
    "#if else with reduce in lambda\n",
    "nums=[10,20,22,25,29,35]\n",
    "max_value=reduce(lambda x,y: x if x>y else y, nums)\n",
    "print(max_value)"
   ]
  },
  {
   "cell_type": "code",
   "execution_count": null,
   "id": "7ac05f72",
   "metadata": {},
   "outputs": [],
   "source": []
  },
  {
   "cell_type": "code",
   "execution_count": null,
   "id": "e09d404c",
   "metadata": {},
   "outputs": [],
   "source": []
  },
  {
   "cell_type": "code",
   "execution_count": null,
   "id": "b7e60116",
   "metadata": {},
   "outputs": [],
   "source": []
  },
  {
   "cell_type": "code",
   "execution_count": null,
   "id": "361e63af",
   "metadata": {},
   "outputs": [],
   "source": []
  }
 ],
 "metadata": {
  "kernelspec": {
   "display_name": "Python 3",
   "language": "python",
   "name": "python3"
  },
  "language_info": {
   "codemirror_mode": {
    "name": "ipython",
    "version": 3
   },
   "file_extension": ".py",
   "mimetype": "text/x-python",
   "name": "python",
   "nbconvert_exporter": "python",
   "pygments_lexer": "ipython3",
   "version": "3.12.0"
  }
 },
 "nbformat": 4,
 "nbformat_minor": 5
}
