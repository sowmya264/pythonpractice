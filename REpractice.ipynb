{
 "cells": [
  {
   "cell_type": "code",
   "execution_count": null,
   "id": "f3a28d45",
   "metadata": {},
   "outputs": [
    {
     "name": "stdout",
     "output_type": "stream",
     "text": [
      "'789' does NOT contain only octal digits\n",
      "'123' contains only octal digits\n",
      "'004' contains only octal digits\n"
     ]
    }
   ],
   "source": [
    "#declare the list of having octal and non-octal\n",
    "def is_octal(s):\n",
    "    return all(ch in '01234567' for ch in s)\n",
    "str_list=['789','123','004']\n",
    "for s in str_list:\n",
    "    if is_octal(s):\n",
    "        print(f\"'{s}' contains only octal digits\")\n",
    "    else:\n",
    "        print(f\"'{s}' does NOT contain only octal digits\")"
   ]
  },
  {
   "cell_type": "code",
   "execution_count": null,
   "id": "a9dcf4b8",
   "metadata": {},
   "outputs": [
    {
     "name": "stdout",
     "output_type": "stream",
     "text": [
      "user ID: zuck, Domain: facebook,Suffix: com\n",
      "user ID: sunder33, Domain: google,Suffix: com\n",
      "user ID: jeff42, Domain: amazon,Suffix: com\n"
     ]
    }
   ],
   "source": [
    "#print separate useid,Domain,suffix in email\n",
    "import re\n",
    "emails=\"\"\"zuck@facebook.com\n",
    "sunder33@google.com\n",
    "jeff42@amazon.com\"\"\"\n",
    "pattern=r'(\\w+)@(\\w+)\\.(\\w+)'\n",
    "matches=re.findall(pattern, emails)\n",
    "for user_id, domain, suffix in matches:\n",
    "    print(f\"user ID: {user_id}, Domain: {domain},Suffix: {suffix}\")"
   ]
  },
  {
   "cell_type": "code",
   "execution_count": 1,
   "id": "13714f3e",
   "metadata": {},
   "outputs": [
    {
     "name": "stdout",
     "output_type": "stream",
     "text": [
      "Good advice what I would do differently if I was learning to code today\n"
     ]
    }
   ],
   "source": [
    "#removing all except text\n",
    "import re\n",
    "import string\n",
    "tweet=\"Good advice! RT @TheNextWeb: what I would do differently if I was learning to code today httP://t.co/lbwej0pxOd cc: @garybernhardt #rstats\"\n",
    "def clean_tweet(text):\n",
    "    text=re.sub(r'RT\\s+','',text)\n",
    "    text=re.sub(r'cc:','',text,flags=re.IGNORECASE)\n",
    "    text = re.sub(r'http\\S+', '', text, flags=re.IGNORECASE)\n",
    "    text=re.sub(r'@\\w+','',text)\n",
    "    text=re.sub(r'#\\w+','',text)\n",
    "    text=text.translate(str.maketrans('','',string.punctuation))\n",
    "    text=re.sub(r'\\s+',' ',text)\n",
    "    return text.strip()\n",
    "put=clean_tweet(tweet)\n",
    "print(put)"
   ]
  },
  {
   "cell_type": "code",
   "execution_count": null,
   "id": "022a88e0",
   "metadata": {},
   "outputs": [
    {
     "name": "stdout",
     "output_type": "stream",
     "text": [
      "['Your Title Here', 'Link Name', 'This is a Header', 'This is a Medium Header', 'This is a new paragraph!', 'This is a another paragraph!', 'This is a new sentence without a paragraph break, in bold italics.']\n"
     ]
    }
   ],
   "source": [
    "#print the text in html file into a list\n",
    "import requests\n",
    "from bs4 import BeautifulSoup\n",
    "\n",
    "r = requests.get(\"https://raw.githubusercontent.com/selva86/datasets/master/sample.html\")\n",
    "\n",
    "soup = BeautifulSoup(r.text, 'html.parser')\n",
    "\n",
    "texts = soup.stripped_strings\n",
    "\n",
    "desired_output = list(texts)\n",
    "\n",
    "print(desired_output)\n",
    "#"
   ]
  },
  {
   "cell_type": "code",
   "execution_count": null,
   "id": "e10ec27d",
   "metadata": {},
   "outputs": [
    {
     "name": "stdout",
     "output_type": "stream",
     "text": [
      "['civic', 'trust', 'maximum', 'aa']\n"
     ]
    }
   ],
   "source": [
    "#print words having same start and end letters\n",
    "words = ['civic', 'trust','windows', 'maximum', 'museums', 'aa','as']\n",
    "\n",
    "same_start_end = [word for word in words if word[0].lower() == word[-1].lower()]\n",
    "\n",
    "print(same_start_end)\n"
   ]
  },
  {
   "cell_type": "code",
   "execution_count": null,
   "id": "0964d80b",
   "metadata": {},
   "outputs": [
    {
     "name": "stdout",
     "output_type": "stream",
     "text": [
      "[1, 8, 27, 64, 125, 216, 343, 512, 729]\n"
     ]
    }
   ],
   "source": [
    "#cubes of numbers in list\n",
    "nums=[1,2,3,4,5,6,7,8,9]\n",
    "cubes=[x**3 for x in nums]\n",
    "print(cubes)"
   ]
  },
  {
   "cell_type": "code",
   "execution_count": null,
   "id": "1b438cd3",
   "metadata": {},
   "outputs": [
    {
     "name": "stdout",
     "output_type": "stream",
     "text": [
      "{1: 1, 3: 27, 5: 125, 7: 343}\n"
     ]
    }
   ],
   "source": [
    "#to print odd numbers and its cube\n",
    "list=[1,2,3,4,5,6,7]\n",
    "output_dict={x: x**3 for x in list if x%2!=0}\n",
    "print(output_dict)"
   ]
  },
  {
   "cell_type": "code",
   "execution_count": 5,
   "id": "0d2284f1",
   "metadata": {},
   "outputs": [
    {
     "name": "stdout",
     "output_type": "stream",
     "text": [
      "{'a': 1, 'b': 2, 'c': 3, 'd': 4, 'e': 5, 'f': 6, 'g': 7, 'h': 8, 'i': 9, 'j': 10, 'k': 11, 'l': 12, 'm': 13, 'n': 14, 'o': 15, 'p': 16, 'q': 17, 'r': 18, 's': 19, 't': 20, 'u': 21, 'v': 22, 'w': 23, 'x': 24, 'y': 25, 'z': 26}\n"
     ]
    }
   ],
   "source": [
    "#alphabet mapping with each corresponding integer\n",
    "import string\n",
    "alphabet_dict={letter: index+1 for index,letter in enumerate(string.ascii_lowercase)}\n",
    "print(alphabet_dict)"
   ]
  }
 ],
 "metadata": {
  "kernelspec": {
   "display_name": "Python 3",
   "language": "python",
   "name": "python3"
  },
  "language_info": {
   "codemirror_mode": {
    "name": "ipython",
    "version": 3
   },
   "file_extension": ".py",
   "mimetype": "text/x-python",
   "name": "python",
   "nbconvert_exporter": "python",
   "pygments_lexer": "ipython3",
   "version": "3.12.0"
  }
 },
 "nbformat": 4,
 "nbformat_minor": 5
}
