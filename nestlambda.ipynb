{
 "cells": [
  {
   "cell_type": "code",
   "execution_count": 1,
   "id": "5d0ce6eb",
   "metadata": {},
   "outputs": [
    {
     "name": "stdout",
     "output_type": "stream",
     "text": [
      "9\n"
     ]
    }
   ],
   "source": [
    "#(a+b)*c expression lambda evaluate and returns to another lambda\n",
    "l2=lambda a: lambda b,c: (a+b)*c\n",
    "l1=l2(2)\n",
    "value=l1(1,3)\n",
    "print(value)"
   ]
  },
  {
   "cell_type": "code",
   "execution_count": 7,
   "id": "9fa9ea71",
   "metadata": {},
   "outputs": [
    {
     "name": "stdout",
     "output_type": "stream",
     "text": [
      "16\n"
     ]
    }
   ],
   "source": [
    "o=(lambda a: lambda b,c:(a+b)*c)(5)(3,2)\n",
    "print(o)"
   ]
  },
  {
   "cell_type": "code",
   "execution_count": 8,
   "id": "b423ddbe",
   "metadata": {},
   "outputs": [
    {
     "name": "stdout",
     "output_type": "stream",
     "text": [
      "45\n"
     ]
    }
   ],
   "source": [
    "o=(lambda a: lambda b: lambda c,d:(a+b)*(c+d))(2)(3)(4,5)\n",
    "print(o)"
   ]
  },
  {
   "cell_type": "code",
   "execution_count": 9,
   "id": "a8ae5574",
   "metadata": {},
   "outputs": [
    {
     "name": "stdout",
     "output_type": "stream",
     "text": [
      "27\n"
     ]
    }
   ],
   "source": [
    "num=int(input(\"a:\"))\n",
    "n=int(input(\"x:\"))\n",
    "oper=lambda a: lambda x:(x+a)**3\n",
    "numsq=oper(num)\n",
    "print(numsq(n))"
   ]
  },
  {
   "cell_type": "code",
   "execution_count": null,
   "id": "bc82d37e",
   "metadata": {},
   "outputs": [
    {
     "name": "stdout",
     "output_type": "stream",
     "text": [
      "3.0\n"
     ]
    }
   ],
   "source": [
    "#(a-b)/(c-d) expression with different modulations\n",
    "try:\n",
    "    o=(lambda a: lambda b: lambda c,d:(a-b)/(c-d))(10)(4)(8,6)\n",
    "    print(o)\n",
    "except ZeroDivisionError:\n",
    "    print(\"division by zero error!!!\")\n",
    "except TypeError:\n",
    "    print(\"invalid datatype\")"
   ]
  },
  {
   "cell_type": "code",
   "execution_count": 12,
   "id": "e7560674",
   "metadata": {},
   "outputs": [
    {
     "name": "stdout",
     "output_type": "stream",
     "text": [
      "hi-students-good-morning\n"
     ]
    }
   ],
   "source": [
    "#simple nested lambda string combining with seperator operation for  attributes \n",
    "o=(lambda a: lambda b: lambda c,d:a+'-'+b+'-'+c+'-'+d)('hi')(\"students\")(\"good\",\"morning\")\n",
    "print(o)"
   ]
  },
  {
   "cell_type": "code",
   "execution_count": 18,
   "id": "a7646bb3",
   "metadata": {},
   "outputs": [
    {
     "name": "stdout",
     "output_type": "stream",
     "text": [
      "HI!STUDENTS!!!\n"
     ]
    }
   ],
   "source": [
    "#given attributes a,b,c,d are hi,!,students,!!! write a nested lambda to concatinate the abcd,by converting a and c to uppercase\n",
    "#o/p:-HI!students!!!\n",
    "a,b,c,d=\"hi\",\"!\",\"students\",\"!!!\"\n",
    "res=(lambda f: f(a,b,c,d)) (lambda x,y,z,w: x.upper()+y+z.upper()+w)\n",
    "print(res)\n"
   ]
  },
  {
   "cell_type": "code",
   "execution_count": 22,
   "id": "c3e31776",
   "metadata": {},
   "outputs": [
    {
     "name": "stdout",
     "output_type": "stream",
     "text": [
      "iH olleh stneduts gninrom\n"
     ]
    }
   ],
   "source": [
    "#given attributes a,b,c,d are hi,!,students,!!! write a nested lambda to concatinate the abcd,by reversing with sep\n",
    "o=(lambda a: lambda b: lambda c,d: a[::-1]+' '+b[::-1]+' '+c[::-1]+' '+d[::-1])('Hi')(\"hello\")(\"students\",\"morning\")\n",
    "print(o)"
   ]
  },
  {
   "cell_type": "code",
   "execution_count": 24,
   "id": "0e90270d",
   "metadata": {},
   "outputs": [
    {
     "name": "stdout",
     "output_type": "stream",
     "text": [
      "['iH', 'olleh', 'stneduts', 'gninrom']\n"
     ]
    }
   ],
   "source": [
    "o=(lambda a: lambda b: lambda c,d:[a[::-1],b[::-1],c[::-1],d[::-1]])('Hi')(\"hello\")(\"students\",\"morning\")\n",
    "print(o)"
   ]
  },
  {
   "cell_type": "code",
   "execution_count": 25,
   "id": "ca9bdecc",
   "metadata": {},
   "outputs": [
    {
     "name": "stdout",
     "output_type": "stream",
     "text": [
      "[12, 12, 9, 16]\n"
     ]
    }
   ],
   "source": [
    "numbers=lambda x: lambda a: a*2 if a>x else a*3\n",
    "above_5=numbers(5)\n",
    "num=[4,6,3,8]\n",
    "o=list(map(above_5,num))\n",
    "print(o)"
   ]
  },
  {
   "cell_type": "code",
   "execution_count": 2,
   "id": "5bbba9a1",
   "metadata": {},
   "outputs": [
    {
     "data": {
      "text/plain": [
       "[82, 73, 80, 73, 62]"
      ]
     },
     "execution_count": 2,
     "metadata": {},
     "output_type": "execute_result"
    }
   ],
   "source": [
    "scores=[[1,35,80],[2,32,75],[3,30,82],[4,33,75],[5,37,60]]\n",
    "abv_avg=35\n",
    "new_marks=map(lambda x: x[2]+2 if x[1] >=  abv_avg else x[2]-2,scores)\n",
    "list(new_marks)"
   ]
  },
  {
   "cell_type": "code",
   "execution_count": null,
   "id": "bf19b535",
   "metadata": {},
   "outputs": [
    {
     "data": {
      "text/plain": [
       "[150.5, 200.2, 305.1, 243.7]"
      ]
     },
     "execution_count": 9,
     "metadata": {},
     "output_type": "execute_result"
    }
   ],
   "source": [
    "#lambda on dictionaries\n",
    "sales=[{'country':\"india\",'sale':150.5},{'country':\"china\",'sale':200.2},{'country':\"us\",'sale':305.1},{'country':\"uk\",'sale':243.7}]\n",
    "country_key=map(lambda x: x['country'],sales)\n",
    "list(country_key)\n",
    "\n"
   ]
  },
  {
   "cell_type": "code",
   "execution_count": 10,
   "id": "c0a4f583",
   "metadata": {},
   "outputs": [
    {
     "data": {
      "text/plain": [
       "[150.5, 200.2, 305.1, 243.7]"
      ]
     },
     "execution_count": 10,
     "metadata": {},
     "output_type": "execute_result"
    }
   ],
   "source": [
    "country_values=map(lambda x: x['sale'],sales)\n",
    "list(country_values)"
   ]
  },
  {
   "cell_type": "code",
   "execution_count": null,
   "id": "d8494cb9",
   "metadata": {},
   "outputs": [
    {
     "data": {
      "text/plain": [
       "[{'country': 'india', 'sale': 150.5}]"
      ]
     },
     "execution_count": 11,
     "metadata": {},
     "output_type": "execute_result"
    }
   ],
   "source": [
    "#filter\n",
    "india_sales=filter(lambda x:x['country']==\"india\",sales)\n",
    "list(india_sales)"
   ]
  },
  {
   "cell_type": "code",
   "execution_count": 12,
   "id": "b38fb00a",
   "metadata": {},
   "outputs": [
    {
     "data": {
      "text/plain": [
       "[{'country': 'china', 'sale': 200.2},\n",
       " {'country': 'us', 'sale': 305.1},\n",
       " {'country': 'uk', 'sale': 243.7}]"
      ]
     },
     "execution_count": 12,
     "metadata": {},
     "output_type": "execute_result"
    }
   ],
   "source": [
    "high_sales=filter(lambda x: x['sale']>200,sales)\n",
    "list(high_sales)"
   ]
  },
  {
   "cell_type": "code",
   "execution_count": 13,
   "id": "997ffa76",
   "metadata": {},
   "outputs": [
    {
     "data": {
      "text/plain": [
       "[70, 80, 90, 100, 110]"
      ]
     },
     "execution_count": 13,
     "metadata": {},
     "output_type": "execute_result"
    }
   ],
   "source": [
    "#passing multiple to lambda expression\n",
    "list1=[20,25,30,35,40]\n",
    "list2=[50,55,60,65,70]\n",
    "list_add=map(lambda x,y: x+y, list1, list2)\n",
    "list(list_add)"
   ]
  },
  {
   "cell_type": "code",
   "execution_count": null,
   "id": "5f16e305",
   "metadata": {},
   "outputs": [],
   "source": []
  },
  {
   "cell_type": "code",
   "execution_count": null,
   "id": "57d3b227",
   "metadata": {},
   "outputs": [],
   "source": []
  },
  {
   "cell_type": "code",
   "execution_count": null,
   "id": "73acd792",
   "metadata": {},
   "outputs": [],
   "source": []
  },
  {
   "cell_type": "code",
   "execution_count": null,
   "id": "acdb167a",
   "metadata": {},
   "outputs": [],
   "source": []
  }
 ],
 "metadata": {
  "kernelspec": {
   "display_name": "Python 3",
   "language": "python",
   "name": "python3"
  },
  "language_info": {
   "codemirror_mode": {
    "name": "ipython",
    "version": 3
   },
   "file_extension": ".py",
   "mimetype": "text/x-python",
   "name": "python",
   "nbconvert_exporter": "python",
   "pygments_lexer": "ipython3",
   "version": "3.12.0"
  }
 },
 "nbformat": 4,
 "nbformat_minor": 5
}
