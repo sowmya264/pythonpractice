{
 "cells": [
  {
   "cell_type": "code",
   "execution_count": 5,
   "id": "08162680",
   "metadata": {},
   "outputs": [
    {
     "name": "stdout",
     "output_type": "stream",
     "text": [
      "match found for: hi\n"
     ]
    }
   ],
   "source": [
    "#code to take a data and fetch to match the given data \n",
    "import re\n",
    "text= 'hi students how are you!!!'\n",
    "se=r'hi'\n",
    "output=re.match(se, text)\n",
    "if output:\n",
    "    print(\"match found for:\",output.group())\n",
    "else:\n",
    "    print(\"no match......\")"
   ]
  },
  {
   "cell_type": "code",
   "execution_count": 3,
   "id": "73b1473e",
   "metadata": {},
   "outputs": [
    {
     "name": "stdout",
     "output_type": "stream",
     "text": [
      "229\n"
     ]
    }
   ],
   "source": [
    "#group, if you have a match in data,group will extract\n",
    "import re\n",
    "text= 'my number is 229'\n",
    "match=re.search(r'\\d+',text)\n",
    "print(match.group())"
   ]
  },
  {
   "cell_type": "code",
   "execution_count": 5,
   "id": "60c3a92a",
   "metadata": {},
   "outputs": [
    {
     "name": "stdout",
     "output_type": "stream",
     "text": [
      "number found 9837\n"
     ]
    }
   ],
   "source": [
    "import re\n",
    "text=input(\"enter a sentence with number\")\n",
    "match=re.search(r'\\d+',text)\n",
    "if match:\n",
    "    print(\"number found\",match.group())\n",
    "else:\n",
    "    print(\"no match\")"
   ]
  },
  {
   "cell_type": "code",
   "execution_count": null,
   "id": "b579a43b",
   "metadata": {},
   "outputs": [
    {
     "name": "stdout",
     "output_type": "stream",
     "text": [
      "second number found 100\n"
     ]
    }
   ],
   "source": [
    "import re\n",
    "text=input(\"enter a sentence with a number\")\n",
    "matches=list(re.findall(r'\\d+',text))\n",
    "if len(matches)>=2:\n",
    "    print(\"second number found\",matches[1].group())\n",
    "elif len(matches)==1:\n",
    "    print(\"only one number found\",matches[0].group())\n",
    "else:\n",
    "    print(\"no match\")\n",
    "\n",
    "\n"
   ]
  },
  {
   "cell_type": "code",
   "execution_count": 9,
   "id": "b9a1fd4f",
   "metadata": {},
   "outputs": [
    {
     "name": "stdout",
     "output_type": "stream",
     "text": [
      "3th number is: 1\n"
     ]
    }
   ],
   "source": [
    "import re\n",
    "text=input(\"enter a sentence with a number\")\n",
    "n=int(input(\"which number you want to extract:\"))\n",
    "matches=list(re.findall(r'\\d+',text))\n",
    "if len(matches)>=n:\n",
    "    print(f\"{n}th number is:\",matches[n-1])\n",
    "else:\n",
    "    print(\"not found\")\n"
   ]
  },
  {
   "cell_type": "code",
   "execution_count": 12,
   "id": "7bcad6dd",
   "metadata": {},
   "outputs": [
    {
     "name": "stdout",
     "output_type": "stream",
     "text": [
      "valid\n"
     ]
    }
   ],
   "source": [
    "import re\n",
    "email=input(\"enter your email\")\n",
    "pattern=r'^[a-zA-Z0-9_]+@[a-zA-Z0-9_]+\\.[a-zA-Z]{2,}$'\n",
    "if re.match(pattern,email):\n",
    "    print(\"valid\")\n",
    "else:\n",
    "    print(\"not valid\")"
   ]
  },
  {
   "cell_type": "code",
   "execution_count": 16,
   "id": "8b4df5d8",
   "metadata": {},
   "outputs": [
    {
     "name": "stdout",
     "output_type": "stream",
     "text": [
      "valid\n"
     ]
    }
   ],
   "source": [
    "import re\n",
    "phone=input(\"enter phone number\")\n",
    "pattern=r'^[6-9]\\d{0,9}$'\n",
    "if re.match(pattern,phone):\n",
    "    print(\"valid\")\n",
    "else:\n",
    "    print(\"not valid\")"
   ]
  }
 ],
 "metadata": {
  "kernelspec": {
   "display_name": "Python 3",
   "language": "python",
   "name": "python3"
  },
  "language_info": {
   "codemirror_mode": {
    "name": "ipython",
    "version": 3
   },
   "file_extension": ".py",
   "mimetype": "text/x-python",
   "name": "python",
   "nbconvert_exporter": "python",
   "pygments_lexer": "ipython3",
   "version": "3.12.0"
  }
 },
 "nbformat": 4,
 "nbformat_minor": 5
}
